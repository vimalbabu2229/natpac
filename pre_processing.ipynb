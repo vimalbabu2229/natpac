{
 "cells": [
  {
   "cell_type": "code",
   "execution_count": 9,
   "metadata": {},
   "outputs": [],
   "source": [
    "import pandas as pd \n",
    "# Drop rows with missing values and remove duplicates\n",
    "data = pd.read_excel(\"dataset/psl.xlsx\").dropna().drop_duplicates()\n",
    "df= pd.DataFrame(data)"
   ]
  },
  {
   "cell_type": "code",
   "execution_count": 10,
   "metadata": {},
   "outputs": [],
   "source": [
    "# Function to convert time to seconds\n",
    "def time_to_seconds(time_obj):\n",
    "    return time_obj.hour * 3600 + time_obj.minute * 60 + time_obj.second\n",
    " \n",
    "# Function to convert seconds to human-readable time format\n",
    "def seconds_to_time(df, columns):\n",
    "    df[columns] = df[columns].apply(lambda x: pd.to_datetime(x, unit='s').dt.strftime('%H:%M:%S'))"
   ]
  },
  {
   "cell_type": "code",
   "execution_count": 11,
   "metadata": {},
   "outputs": [
    {
     "name": "stdout",
     "output_type": "stream",
     "text": [
      "Preprocessing completed successfully.\n"
     ]
    }
   ],
   "source": [
    "def preprocess_data(input_file_path, output_file_path):\n",
    "    try:\n",
    "        # Read the Excel file and drop duplicates\n",
    "        df = pd.read_excel(input_file_path)\n",
    "    except FileNotFoundError:\n",
    "        return \"Error: Input file not found.\"\n",
    "    #if df.isnull().values.any():\n",
    "        #     # Print the first three rows with null values\n",
    "        #     null_rows = df[df.isnull().any(axis=1)].head(3)\n",
    "        #     print(\"Null values found in the following rows:\")\n",
    "        #     print(null_rows)\n",
    "        #     raise ValueError(\"Error: Null values found in the dataset.\")\n",
    "    \n",
    "    if not all(df.columns):\n",
    "        return \"Error: Column names are not provided in the header.\"\n",
    "    \n",
    "    df = df.dropna().drop_duplicates()\n",
    "    \n",
    "    # Iterate through each column name and apply renaming logic\n",
    "    for col in df.columns:\n",
    "        if 'sl no.' in col.casefold():\n",
    "            df = df.rename(columns={col: 'Sl No.'})\n",
    "        elif 'departure' in col.casefold() and 'place' in col.casefold():\n",
    "            df = df.rename(columns={col: 'Departure Place'})\n",
    "        elif 'departure' in col.casefold() and 'time' in col.casefold():\n",
    "            df = df.rename(columns={col: 'Departure Time'})\n",
    "        elif 'arrival' in col.casefold() and 'place' in col.casefold():\n",
    "            df = df.rename(columns={col: 'Arrival Place'})\n",
    "        elif 'arrival' in col.casefold() and 'time' in col.casefold():\n",
    "            df = df.rename(columns={col: 'Arrival Time'})\n",
    "        elif 'Running' in col.casefold() and 'time' in col.casefold():\n",
    "            df = df.rename(columns={col: 'Running Time'})\n",
    "             \n",
    "    # Convert time columns to datetime and then to seconds\n",
    "    time_columns = ['Departure Time', 'Arrival Time', 'Running Time']\n",
    "    for col in time_columns:\n",
    "        df[col] = pd.to_datetime(df[col], format='%H:%M:%S', errors='coerce').dt.time\n",
    "        df[col] = df[col].apply(time_to_seconds)\n",
    "        \n",
    "    # Convert other columns to appropriate data types\n",
    "    for col in df.columns:\n",
    "        if col not in time_columns:  # Exclude time columns\n",
    "            df[col] = df[col].convert_dtypes()\n",
    "     \n",
    "    # Sort the DataFrame by 'Departure Time' column\n",
    "    sorted_df = df.sort_values('Departure Time', ascending=True).reset_index(drop=True) \n",
    "    \n",
    "    # Save the preprocessed DataFrame to an Excel file\n",
    "    sorted_df.to_excel(output_file_path, index=False)\n",
    "    \n",
    "    return \"Preprocessing completed successfully.\"\n",
    "\n",
    "def main():\n",
    "    input_file_path = 'dataset/psl.xlsx'\n",
    "    output_file_path = 'dataset/processed/psl.xlsx'\n",
    "    result = preprocess_data(input_file_path, output_file_path)\n",
    "    if result is not None:\n",
    "        print(result)\n",
    "        \n",
    "main()"
   ]
  }
 ],
 "metadata": {
  "kernelspec": {
   "display_name": "Python 3",
   "language": "python",
   "name": "python3"
  },
  "language_info": {
   "codemirror_mode": {
    "name": "ipython",
    "version": 3
   },
   "file_extension": ".py",
   "mimetype": "text/x-python",
   "name": "python",
   "nbconvert_exporter": "python",
   "pygments_lexer": "ipython3",
   "version": "3.11.3"
  },
  "orig_nbformat": 4
 },
 "nbformat": 4,
 "nbformat_minor": 2
}
