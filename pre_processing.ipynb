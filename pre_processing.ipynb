{
 "cells": [
  {
   "cell_type": "code",
   "execution_count": 1,
   "metadata": {},
   "outputs": [],
   "source": [
    "import pandas as pd \n",
    "# Drop rows with missing values and remove duplicates\n",
    "data = pd.read_excel(\"dataset/psl.xlsx\").dropna().drop_duplicates()\n",
    "df= pd.DataFrame(data)"
   ]
  },
  {
   "cell_type": "code",
   "execution_count": 2,
   "metadata": {},
   "outputs": [],
   "source": [
    "# Function to convert time to seconds\n",
    "def time_to_seconds(time_obj):\n",
    "    return time_obj.hour * 3600 + time_obj.minute * 60 + time_obj.second\n",
    " \n",
    "# Function to convert seconds to human-readable time format\n",
    "def seconds_to_time(df, columns):\n",
    "    df[columns] = df[columns].apply(lambda x: pd.to_datetime(x, unit='s').dt.strftime('%H:%M:%S'))"
   ]
  },
  {
   "cell_type": "code",
   "execution_count": 3,
   "metadata": {},
   "outputs": [
    {
     "name": "stdout",
     "output_type": "stream",
     "text": [
      "Preprocessing completed successfully.\n"
     ]
    }
   ],
   "source": [
    "def preprocess_data(input_file_path, output_file_path):\n",
    "    try:\n",
    "        # Read the Excel file and drop duplicates\n",
    "        df = pd.read_excel(input_file_path)\n",
    "    except FileNotFoundError:\n",
    "        return \"Error: Input file not found.\"\n",
    "    #if df.isnull().values.any():\n",
    "        #     # Print the first three rows with null values\n",
    "        #     null_rows = df[df.isnull().any(axis=1)].head(3)\n",
    "        #     print(\"Null values found in the following rows:\")\n",
    "        #     print(null_rows)\n",
    "        #     raise ValueError(\"Error: Null values found in the dataset.\")\n",
    "    \n",
    "    if not all(df.columns):\n",
    "        return \"Error: Column names are not provided in the header.\"\n",
    "    \n",
    "    df = df.dropna().drop_duplicates()\n",
    "    \n",
    "    # Iterate through each column name and apply renaming logic\n",
    "    for col in df.columns:\n",
    "        if 'sl no.' in col.casefold():\n",
    "            df = df.rename(columns={col: 'Sl No.'})\n",
    "        elif 'departure' in col.casefold() and 'place' in col.casefold():\n",
    "            df = df.rename(columns={col: 'Departure Place'})\n",
    "        elif 'departure' in col.casefold() and 'time' in col.casefold():\n",
    "            df = df.rename(columns={col: 'Departure Time'})\n",
    "        elif 'arrival' in col.casefold() and 'place' in col.casefold():\n",
    "            df = df.rename(columns={col: 'Arrival Place'})\n",
    "        elif 'arrival' in col.casefold() and 'time' in col.casefold():\n",
    "            df = df.rename(columns={col: 'Arrival Time'})\n",
    "        elif 'Running' in col.casefold() and 'time' in col.casefold():\n",
    "            df = df.rename(columns={col: 'Running Time'})\n",
    "             \n",
    "    # Convert time columns to datetime and then to seconds\n",
    "    time_columns = ['Departure Time', 'Arrival Time', 'Running Time']\n",
    "    for col in time_columns:\n",
    "        df[col] = pd.to_datetime(df[col], format='%H:%M:%S', errors='coerce').dt.time\n",
    "        df[col] = df[col].apply(time_to_seconds)\n",
    "        \n",
    "    # Convert other columns to appropriate data types\n",
    "    for col in df.columns:\n",
    "        if col not in time_columns:  # Exclude time columns\n",
    "            df[col] = df[col].convert_dtypes()\n",
    "     \n",
    "    # Sort the DataFrame by 'Departure Time' column\n",
    "    sorted_df = df.sort_values('Departure Time', ascending=True).reset_index(drop=True) \n",
    "    \n",
    "    # Save the preprocessed DataFrame to an Excel file\n",
    "    sorted_df.to_excel(output_file_path, index=False)\n",
    "    \n",
    "    return \"Preprocessing completed successfully.\"\n",
    "\n",
    "def main():\n",
    "    input_file_path = 'dataset/psl.xlsx'\n",
    "    output_file_path = 'dataset/processed/psl.xlsx'\n",
    "    result = preprocess_data(input_file_path, output_file_path)\n",
    "    if result is not None:\n",
    "        print(result)\n",
    "        \n",
    "main()"
   ]
  },
  {
   "cell_type": "code",
   "execution_count": 4,
   "metadata": {},
   "outputs": [
    {
     "name": "stdout",
     "output_type": "stream",
     "text": [
      "Column 'Departure Time' is not in datetime format.\n",
      "Dataset is not valid.\n"
     ]
    }
   ],
   "source": [
    "\n",
    "\n",
    "def time_to_seconds(time_obj):\n",
    "    return time_obj.hour * 3600 + time_obj.minute * 60 + time_obj.second\n",
    "\n",
    "def check_dataset_validity(df):\n",
    "    # Check for missing values\n",
    "    if df.isnull().values.any():\n",
    "        print(\"Dataset contains missing values.\")\n",
    "        return False\n",
    "    \n",
    "    # Check for duplicates\n",
    "    if df.duplicated().any():\n",
    "        print(\"Dataset contains duplicates.\")\n",
    "        return False\n",
    "    \n",
    "    # Check for invalid time formats\n",
    "    time_columns = ['Departure Time', 'Arrival Time act', 'Running Time']\n",
    "    for col in time_columns:\n",
    "        if df[col].dtype != 'datetime64[ns]':\n",
    "            print(f\"Column '{col}' is not in datetime format.\")\n",
    "            return False\n",
    "    \n",
    "    # Check for negative running times\n",
    "    if (df['Running Time'] < 0).any():\n",
    "        print(\"Dataset contains negative running times.\")\n",
    "        return False\n",
    "    \n",
    "    # Check for invalid places or routes\n",
    "    if df['Departure Place'].nunique() < 2 or df['Arrival Place'].nunique() < 2:\n",
    "        print(\"Dataset contains insufficient unique departure or arrival places.\")\n",
    "        return False\n",
    "    \n",
    "    return True\n",
    "\n",
    "# Read Excel file into a DataFrame and preprocess it\n",
    "data = pd.read_excel(\"dataset/psl.xlsx\").dropna().drop_duplicates()\n",
    "df = pd.DataFrame(data)\n",
    "\n",
    "# Convert time columns to seconds\n",
    "df['Departure Time'] = pd.to_datetime(df['Departure Time'], format='%H:%M:%S', errors='coerce').dt.time\n",
    "df['Arrival Time act'] = pd.to_datetime(df['Arrival Time act'], format='%H:%M:%S', errors='coerce').dt.time\n",
    "df['Running Time'] = pd.to_datetime(df['Running Time'], format='%H:%M:%S', errors='coerce').dt.time\n",
    "df[['Arrival Time act', 'Departure Time', 'Running Time']] = df[['Arrival Time act', 'Departure Time', 'Running Time']].apply(lambda x: x.apply(time_to_seconds)).astype(int)\n",
    "df[['Departure Place', 'Arrival Place act', 'Route of Operation']] = df[['Departure Place', 'Arrival Place act', 'Route of Operation']].convert_dtypes()\n",
    "\n",
    "# Check dataset validity\n",
    "if check_dataset_validity(df):\n",
    "    print(\"Dataset is valid.\")\n",
    "    # Sorting and further processing can be done here\n",
    "    sorted_list = df.sort_values('Departure Time', ascending=True).reset_index(drop=True)\n",
    "    start_list = df[df['Departure Place'] == 'PSL'].sort_values('Departure Time').reset_index(drop=True)\n",
    "    \n",
    "    # Output processed DataFrame to Excel\n",
    "    output_file_path = 'dataset/processed/psl.xlsx'\n",
    "    df.to_excel(output_file_path, index=False)\n",
    "else:\n",
    "    print(\"Dataset is not valid.\")\n"
   ]
  },
  {
   "cell_type": "code",
   "execution_count": null,
   "metadata": {},
   "outputs": [],
   "source": []
  }
 ],
 "metadata": {
  "kernelspec": {
   "display_name": "Python 3 (ipykernel)",
   "language": "python",
   "name": "python3"
  },
  "language_info": {
   "codemirror_mode": {
    "name": "ipython",
    "version": 3
   },
   "file_extension": ".py",
   "mimetype": "text/x-python",
   "name": "python",
   "nbconvert_exporter": "python",
   "pygments_lexer": "ipython3",
   "version": "3.11.3"
  }
 },
 "nbformat": 4,
 "nbformat_minor": 2
}
