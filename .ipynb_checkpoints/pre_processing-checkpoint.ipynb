{
 "cells": [
  {
   "cell_type": "code",
   "execution_count": 3,
   "metadata": {},
   "outputs": [],
   "source": [
    "import pandas as pd \n",
    "# Drop rows with missing values and remove duplicates\n",
    "data = pd.read_excel(\"dataset/psl.xlsx\").dropna().drop_duplicates()\n",
    "df= pd.DataFrame(data)"
   ]
  },
  {
   "cell_type": "code",
   "execution_count": 4,
   "metadata": {},
   "outputs": [],
   "source": [
    "# Function to convert time to seconds\n",
    "def time_to_seconds(time_obj):\n",
    "    return time_obj.hour * 3600 + time_obj.minute * 60 + time_obj.second\n",
    " \n",
    "# Function to convert seconds to human-readable time format\n",
    "def seconds_to_time(df, columns):\n",
    "    df[columns] = df[columns].apply(lambda x: pd.to_datetime(x, unit='s').dt.strftime('%H:%M:%S'))"
   ]
  },
  {
   "cell_type": "code",
   "execution_count": 5,
   "metadata": {},
   "outputs": [],
   "source": [
    "#converting to datetime format\n",
    "df['Departure Time'] = pd.to_datetime(df['Departure Time'], format='%H:%M:%S', errors='coerce').dt.time\n",
    "df['Arrival Time act'] = pd.to_datetime(df['Arrival Time act'], format='%H:%M:%S', errors='coerce').dt.time\n",
    "df['Running Time']= pd.to_datetime(df['Running Time'], format='%H:%M:%S', errors='coerce').dt.time\n",
    "#to Seconds\n",
    "df[['Arrival Time act', 'Departure Time', 'Running Time']] = df[['Arrival Time act', 'Departure Time', 'Running Time']].apply(lambda x: x.apply(time_to_seconds)).astype(int)\n",
    "df[['Departure Place', 'Arrival Place', 'Route of Operation']] = df[['Departure Place', 'Arrival Place', 'Route of Operation']].convert_dtypes()\n",
    " \n",
    "sorted_list= df.sort_values('Departure Time',ascending=True).reset_index(drop=True)\n",
    "start_list = df[df['Departure Place'] == 'PSL'].sort_values('Departure Time').reset_index(drop=True)\n",
    "\n",
    "# print(df.dtypes)\n",
    "# display(sorted_list.head())\n",
    "# display(start_list.head())\n",
    "\n",
    "output_file_path = 'dataset/processed/psl.xlsx'\n",
    "df.to_excel(output_file_path, index=False)"
   ]
  }
 ],
 "metadata": {
  "kernelspec": {
   "display_name": "Python 3 (ipykernel)",
   "language": "python",
   "name": "python3"
  },
  "language_info": {
   "codemirror_mode": {
    "name": "ipython",
    "version": 3
   },
   "file_extension": ".py",
   "mimetype": "text/x-python",
   "name": "python",
   "nbconvert_exporter": "python",
   "pygments_lexer": "ipython3",
   "version": "3.11.3"
  }
 },
 "nbformat": 4,
 "nbformat_minor": 2
}
